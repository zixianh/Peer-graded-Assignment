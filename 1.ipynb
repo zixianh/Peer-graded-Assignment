{
 "cells": [
  {
   "cell_type": "markdown",
   "id": "2f63166c",
   "metadata": {},
   "source": [
    "# Title"
   ]
  },
  {
   "cell_type": "markdown",
   "id": "e8032277",
   "metadata": {},
   "source": [
    "## Introduction"
   ]
  },
  {
   "cell_type": "markdown",
   "id": "d04e1cb4",
   "metadata": {},
   "source": [
    "## Data Science Languages\n",
    "\n",
    "- Python\n",
    "- R\n",
    "- SQL\n",
    "- Julia\n",
    "- Scala\n",
    "- Java\n"
   ]
  },
  {
   "cell_type": "markdown",
   "id": "341381ad",
   "metadata": {},
   "source": [
    "## Data Science Libraries\n",
    "\n",
    "- NumPy\n",
    "- Pandas\n",
    "- Matplotlib\n",
    "- Seaborn\n",
    "- Scikit-learn\n",
    "- TensorFlow\n",
    "- Keras\n",
    "- PyTorch\n",
    "- ggplot2\n",
    "- dplyr\n"
   ]
  },
  {
   "cell_type": "markdown",
   "id": "57902454",
   "metadata": {},
   "source": [
    "## Data Science Tools\n",
    "\n",
    "| Tool          | Description                                   |\n",
    "|---------------|-----------------------------------------------|\n",
    "| Jupyter       | Interactive computing environment            |\n",
    "| RStudio       | Integrated development environment for R     |\n",
    "| Apache Spark  | Unified analytics engine for big data        |\n",
    "| Tableau       | Data visualization tool                      |\n",
    "| TensorFlow    | Machine learning framework                   |\n"
   ]
  },
  {
   "cell_type": "markdown",
   "id": "7bb47f81",
   "metadata": {},
   "source": [
    "## Arithmetic Expression Examples\n",
    "\n",
    "Below are some examples of basic arithmetic operations in Python.\n"
   ]
  },
  {
   "cell_type": "code",
   "execution_count": 2,
   "id": "e91815cf",
   "metadata": {},
   "outputs": [
    {
     "name": "stdout",
     "output_type": "stream",
     "text": [
      "Multiplication: 15\n",
      "Addition: 8\n"
     ]
    }
   ],
   "source": [
    "# Multiplication and Addition\n",
    "a = 5\n",
    "b = 3\n",
    "multiplication = a * b\n",
    "addition = a + b\n",
    "print(\"Multiplication:\", multiplication)\n",
    "print(\"Addition:\", addition)\n"
   ]
  },
  {
   "cell_type": "code",
   "execution_count": 3,
   "id": "728f11a2",
   "metadata": {},
   "outputs": [
    {
     "name": "stdout",
     "output_type": "stream",
     "text": [
      "120 minutes is equal to 2.0 hours\n"
     ]
    }
   ],
   "source": [
    "# Conversion from minutes to hours\n",
    "minutes = 120\n",
    "hours = minutes / 60\n",
    "print(f\"{minutes} minutes is equal to {hours} hours\")\n"
   ]
  },
  {
   "cell_type": "markdown",
   "id": "468f7c1e",
   "metadata": {},
   "source": [
    "## Objectives\n",
    "\n",
    "- Understand different data science languages\n",
    "- Learn about popular data science libraries\n",
    "- Get familiar with various data science tools\n",
    "- Practice basic arithmetic operations in Python\n",
    "- Convert time units from minutes to hours\n"
   ]
  },
  {
   "cell_type": "markdown",
   "id": "97b30feb",
   "metadata": {},
   "source": [
    "## Author\n",
    "\n",
    "zixian he"
   ]
  },
  {
   "cell_type": "code",
   "execution_count": null,
   "id": "a76d5826",
   "metadata": {},
   "outputs": [],
   "source": []
  }
 ],
 "metadata": {
  "kernelspec": {
   "display_name": "Python 3 (ipykernel)",
   "language": "python",
   "name": "python3"
  },
  "language_info": {
   "codemirror_mode": {
    "name": "ipython",
    "version": 3
   },
   "file_extension": ".py",
   "mimetype": "text/x-python",
   "name": "python",
   "nbconvert_exporter": "python",
   "pygments_lexer": "ipython3",
   "version": "3.8.18"
  }
 },
 "nbformat": 4,
 "nbformat_minor": 5
}
